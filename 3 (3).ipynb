{
  "metadata": {
    "kernelspec": {
      "name": "python",
      "display_name": "Python (Pyodide)",
      "language": "python"
    },
    "language_info": {
      "codemirror_mode": {
        "name": "python",
        "version": 3
      },
      "file_extension": ".py",
      "mimetype": "text/x-python",
      "name": "python",
      "nbconvert_exporter": "python",
      "pygments_lexer": "ipython3",
      "version": "3.8"
    }
  },
  "nbformat_minor": 4,
  "nbformat": 4,
  "cells": [
    {
      "cell_type": "code",
      "source": "A = {'x1': 0.2, 'x2': 0.4, 'x3': 0.6, 'x4': 0.8}\nB = {'x1': 0.3, 'x2': 0.5, 'x3': 0.7, 'x4': 0.9}\n\nR = {('x1', 'y1'): 0.2, ('x1', 'y2'): 0.4, ('x2', 'y1'): 0.6, ('x2', 'y2'): 0.8}\nS = {('x1', 'y1'): 0.3, ('x1', 'y2'): 0.5, ('x2', 'y1'): 0.7, ('x2', 'y2'): 0.9}\n\ndef fuzzy_union(A, B):\n    union = {}\n    for key in A.keys():\n        union[key] = max(A[key], B[key])\n    return union",
      "metadata": {
        "trusted": true
      },
      "outputs": [],
      "execution_count": 1
    },
    {
      "cell_type": "code",
      "source": "union_result = fuzzy_union(A, B)\nprint(\"Union:\", union_result)",
      "metadata": {
        "trusted": true
      },
      "outputs": [
        {
          "name": "stdout",
          "text": "Union: {'x1': 0.3, 'x2': 0.5, 'x3': 0.7, 'x4': 0.9}\n",
          "output_type": "stream"
        }
      ],
      "execution_count": 2
    },
    {
      "cell_type": "code",
      "source": "def fuzzy_intersection(A, B):\n    intersection = {}\n    for key in A.keys():\n        intersection[key] = min(A[key], B[key])\n    return intersection",
      "metadata": {
        "trusted": true
      },
      "outputs": [],
      "execution_count": 3
    },
    {
      "cell_type": "code",
      "source": "intersection_result = fuzzy_intersection(A, B)\nprint(\"Intersection:\", intersection_result)",
      "metadata": {
        "trusted": true
      },
      "outputs": [
        {
          "name": "stdout",
          "text": "Intersection: {'x1': 0.2, 'x2': 0.4, 'x3': 0.6, 'x4': 0.8}\n",
          "output_type": "stream"
        }
      ],
      "execution_count": 4
    },
    {
      "cell_type": "code",
      "source": "def fuzzy_complement(A):\n    complement = {}\n    for key in A.keys():\n        complement[key] = 1 - A[key]\n    return complement",
      "metadata": {
        "trusted": true
      },
      "outputs": [],
      "execution_count": 5
    },
    {
      "cell_type": "code",
      "source": "complement_result_A = fuzzy_complement(A)\ncomplement_result_B = fuzzy_complement(B)\nprint(\"Complement A:\", complement_result_A)\nprint(\"Complement B:\", complement_result_B)",
      "metadata": {
        "trusted": true
      },
      "outputs": [
        {
          "name": "stdout",
          "text": "Complement A: {'x1': 0.8, 'x2': 0.6, 'x3': 0.4, 'x4': 0.19999999999999996}\nComplement B: {'x1': 0.7, 'x2': 0.5, 'x3': 0.30000000000000004, 'x4': 0.09999999999999998}\n",
          "output_type": "stream"
        }
      ],
      "execution_count": 6
    },
    {
      "cell_type": "code",
      "source": "def fuzzy_difference(A, B):\n    difference = {}\n    for key in A.keys():\n        difference[key] = min(A[key], 1 - B[key])\n    return difference",
      "metadata": {
        "trusted": true
      },
      "outputs": [],
      "execution_count": 7
    },
    {
      "cell_type": "code",
      "source": "difference_result = fuzzy_difference(A, B)\nprint(\"Difference:\", difference_result)",
      "metadata": {
        "trusted": true
      },
      "outputs": [
        {
          "name": "stdout",
          "text": "Difference: {'x1': 0.2, 'x2': 0.4, 'x3': 0.30000000000000004, 'x4': 0.09999999999999998}\n",
          "output_type": "stream"
        }
      ],
      "execution_count": 8
    },
    {
      "cell_type": "code",
      "source": "def max_min_composition(R, S):\n    composition = {}\n    for (x, z) in R.keys():\n        composition[(x, z)] = 0\n        for y in [key[1] for key in R.keys() if key[0] == x]:\n            composition[(x, z)] = max(composition.get((x, z), 0), min(R.get((x, y), 0), S.get((y, z), 0)))\n\n    return composition",
      "metadata": {
        "trusted": true
      },
      "outputs": [],
      "execution_count": 12
    },
    {
      "cell_type": "code",
      "source": "composition_result = max_min_composition(R, S)\nprint(\"Composition:\", composition_result)",
      "metadata": {
        "trusted": true,
        "scrolled": true
      },
      "outputs": [
        {
          "name": "stdout",
          "text": "Composition: {('x1', 'y1'): 0, ('x1', 'y2'): 0, ('x2', 'y1'): 0, ('x2', 'y2'): 0}\n",
          "output_type": "stream"
        }
      ],
      "execution_count": 13
    },
    {
      "cell_type": "code",
      "source": "def cartesian_product(set1, set2):\n    \"\"\"\n    Computes the Cartesian product of two fuzzy sets.\n\n    Parameters:\n    set1 (dict): First fuzzy set in the form of a dictionary.\n    set2 (dict): Second fuzzy set in the form of a dictionary.\n\n    Returns:\n    dict: Cartesian product of the two fuzzy sets.\n    \"\"\"\n    cartesian = {}\n    for key1, value1 in set1.items():\n        for key2, value2 in set2.items():\n            cartesian[(key1, key2)] = min(value1, value2)\n    return cartesian\n\n# Example usage:\nset1 = {'a': 0.7, 'b': 0.5, 'c': 0.8}\nset2 = {'x': 0.6, 'y': 0.9, 'z': 0.4}\n\ncartesian_result = cartesian_product(set1, set2)\nprint(\"Cartesian Product:\")\nfor key, value in cartesian_result.items():\n    print(f\"{key}: {value}\")\n",
      "metadata": {
        "trusted": true
      },
      "outputs": [
        {
          "name": "stdout",
          "text": "Cartesian Product:\n('a', 'x'): 0.6\n('a', 'y'): 0.7\n('a', 'z'): 0.4\n('b', 'x'): 0.5\n('b', 'y'): 0.5\n('b', 'z'): 0.4\n('c', 'x'): 0.6\n('c', 'y'): 0.8\n('c', 'z'): 0.4\n",
          "output_type": "stream"
        }
      ],
      "execution_count": 14
    },
    {
      "cell_type": "code",
      "source": "",
      "metadata": {
        "trusted": true
      },
      "outputs": [],
      "execution_count": null
    }
  ]
}